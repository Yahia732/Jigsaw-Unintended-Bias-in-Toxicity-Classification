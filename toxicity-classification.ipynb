{
 "cells": [
  {
   "cell_type": "code",
   "execution_count": 1,
   "id": "d0b78095",
   "metadata": {
    "_cell_guid": "b1076dfc-b9ad-4769-8c92-a6c4dae69d19",
    "_uuid": "8f2839f25d086af736a60e9eeb907d3b93b6e0e5",
    "execution": {
     "iopub.execute_input": "2023-04-23T02:58:23.688923Z",
     "iopub.status.busy": "2023-04-23T02:58:23.687847Z",
     "iopub.status.idle": "2023-04-23T02:58:23.702033Z",
     "shell.execute_reply": "2023-04-23T02:58:23.700915Z"
    },
    "papermill": {
     "duration": 0.025066,
     "end_time": "2023-04-23T02:58:23.705241",
     "exception": false,
     "start_time": "2023-04-23T02:58:23.680175",
     "status": "completed"
    },
    "tags": []
   },
   "outputs": [
    {
     "name": "stdout",
     "output_type": "stream",
     "text": [
      "/kaggle/input/jigsaw-unintended-bias-in-toxicity-classification/sample_submission.csv\n",
      "/kaggle/input/jigsaw-unintended-bias-in-toxicity-classification/all_data.csv\n",
      "/kaggle/input/jigsaw-unintended-bias-in-toxicity-classification/test_public_expanded.csv\n",
      "/kaggle/input/jigsaw-unintended-bias-in-toxicity-classification/test_private_expanded.csv\n",
      "/kaggle/input/jigsaw-unintended-bias-in-toxicity-classification/toxicity_individual_annotations.csv\n",
      "/kaggle/input/jigsaw-unintended-bias-in-toxicity-classification/train.csv\n",
      "/kaggle/input/jigsaw-unintended-bias-in-toxicity-classification/identity_individual_annotations.csv\n",
      "/kaggle/input/jigsaw-unintended-bias-in-toxicity-classification/test.csv\n"
     ]
    }
   ],
   "source": [
    "# This Python 3 environment comes with many helpful analytics libraries installed\n",
    "# It is defined by the kaggle/python Docker image: https://github.com/kaggle/docker-python\n",
    "# For example, here's several helpful packages to load\n",
    "\n",
    "import numpy as np # linear algebra\n",
    "import pandas as pd # data processing, CSV file I/O (e.g. pd.read_csv)\n",
    "\n",
    "# Input data files are available in the read-only \"../input/\" directory\n",
    "# For example, running this (by clicking run or pressing Shift+Enter) will list all files under the input directory\n",
    "\n",
    "import os\n",
    "for dirname, _, filenames in os.walk('/kaggle/input'):\n",
    "    for filename in filenames:\n",
    "        print(os.path.join(dirname, filename))\n",
    "\n",
    "# You can write up to 20GB to the current directory (/kaggle/working/) that gets preserved as output when you create a version using \"Save & Run All\" \n",
    "# You can also write temporary files to /kaggle/temp/, but they won't be saved outside of the current session"
   ]
  },
  {
   "cell_type": "code",
   "execution_count": 2,
   "id": "d08f1f64",
   "metadata": {
    "execution": {
     "iopub.execute_input": "2023-04-23T02:58:23.716748Z",
     "iopub.status.busy": "2023-04-23T02:58:23.716450Z",
     "iopub.status.idle": "2023-04-23T02:58:32.623336Z",
     "shell.execute_reply": "2023-04-23T02:58:32.622190Z"
    },
    "papermill": {
     "duration": 8.915472,
     "end_time": "2023-04-23T02:58:32.625939",
     "exception": false,
     "start_time": "2023-04-23T02:58:23.710467",
     "status": "completed"
    },
    "tags": []
   },
   "outputs": [],
   "source": [
    "import numpy as np\n",
    "import pandas as pd\n",
    "import scipy\n",
    "import matplotlib.pyplot as plt\n",
    "import seaborn as sns\n",
    "import re\n",
    "from wordcloud import WordCloud, STOPWORDS\n",
    "import nltk\n",
    "from nltk.corpus import stopwords\n",
    "from nltk.stem import SnowballStemmer, PorterStemmer\n",
    "import math\n",
    "from collections import Counter\n",
    "from sklearn.feature_extraction.text import TfidfVectorizer, CountVectorizer\n",
    "from sklearn.model_selection import train_test_split\n",
    "from sklearn.metrics import roc_auc_score, roc_curve, auc, mean_squared_error\n",
    "from sklearn.decomposition import TruncatedSVD, PCA\n",
    "from sklearn.linear_model import LinearRegression, SGDRegressor\n",
    "from sklearn.svm import SVR\n",
    "from sklearn.tree import DecisionTreeRegressor\n",
    "from sklearn.ensemble import RandomForestRegressor, AdaBoostRegressor\n",
    "from xgboost import XGBRegressor\n",
    "import gensim\n",
    "import string\n",
    "import tensorflow as tf\n",
    "import keras\n",
    "from keras.callbacks import ModelCheckpoint\n",
    "from keras.models import Sequential\n",
    "from keras.layers import Dense\n",
    "from keras.layers import LSTM\n",
    "from keras.layers import CuDNNLSTM\n",
    "from keras.layers import Dropout\n",
    "import keras.layers \n",
    "import warnings\n",
    "import keras\n",
    "warnings.filterwarnings(\"ignore\")\n"
   ]
  },
  {
   "cell_type": "code",
   "execution_count": 3,
   "id": "e54eaf70",
   "metadata": {
    "execution": {
     "iopub.execute_input": "2023-04-23T02:58:32.638000Z",
     "iopub.status.busy": "2023-04-23T02:58:32.637345Z",
     "iopub.status.idle": "2023-04-23T02:58:54.362880Z",
     "shell.execute_reply": "2023-04-23T02:58:54.361821Z"
    },
    "papermill": {
     "duration": 21.734112,
     "end_time": "2023-04-23T02:58:54.365375",
     "exception": false,
     "start_time": "2023-04-23T02:58:32.631263",
     "status": "completed"
    },
    "tags": []
   },
   "outputs": [],
   "source": [
    "train=pd.read_csv(\"/kaggle/input/jigsaw-unintended-bias-in-toxicity-classification/train.csv\")"
   ]
  },
  {
   "cell_type": "code",
   "execution_count": 4,
   "id": "b4409f99",
   "metadata": {
    "execution": {
     "iopub.execute_input": "2023-04-23T02:58:54.377335Z",
     "iopub.status.busy": "2023-04-23T02:58:54.377012Z",
     "iopub.status.idle": "2023-04-23T02:58:54.409806Z",
     "shell.execute_reply": "2023-04-23T02:58:54.408716Z"
    },
    "papermill": {
     "duration": 0.041087,
     "end_time": "2023-04-23T02:58:54.411876",
     "exception": false,
     "start_time": "2023-04-23T02:58:54.370789",
     "status": "completed"
    },
    "tags": []
   },
   "outputs": [
    {
     "data": {
      "text/html": [
       "<div>\n",
       "<style scoped>\n",
       "    .dataframe tbody tr th:only-of-type {\n",
       "        vertical-align: middle;\n",
       "    }\n",
       "\n",
       "    .dataframe tbody tr th {\n",
       "        vertical-align: top;\n",
       "    }\n",
       "\n",
       "    .dataframe thead th {\n",
       "        text-align: right;\n",
       "    }\n",
       "</style>\n",
       "<table border=\"1\" class=\"dataframe\">\n",
       "  <thead>\n",
       "    <tr style=\"text-align: right;\">\n",
       "      <th></th>\n",
       "      <th>id</th>\n",
       "      <th>target</th>\n",
       "      <th>comment_text</th>\n",
       "      <th>severe_toxicity</th>\n",
       "      <th>obscene</th>\n",
       "      <th>identity_attack</th>\n",
       "      <th>insult</th>\n",
       "      <th>threat</th>\n",
       "      <th>asian</th>\n",
       "      <th>atheist</th>\n",
       "      <th>...</th>\n",
       "      <th>article_id</th>\n",
       "      <th>rating</th>\n",
       "      <th>funny</th>\n",
       "      <th>wow</th>\n",
       "      <th>sad</th>\n",
       "      <th>likes</th>\n",
       "      <th>disagree</th>\n",
       "      <th>sexual_explicit</th>\n",
       "      <th>identity_annotator_count</th>\n",
       "      <th>toxicity_annotator_count</th>\n",
       "    </tr>\n",
       "  </thead>\n",
       "  <tbody>\n",
       "    <tr>\n",
       "      <th>0</th>\n",
       "      <td>59848</td>\n",
       "      <td>0.000000</td>\n",
       "      <td>This is so cool. It's like, 'would you want yo...</td>\n",
       "      <td>0.000000</td>\n",
       "      <td>0.0</td>\n",
       "      <td>0.000000</td>\n",
       "      <td>0.00000</td>\n",
       "      <td>0.0</td>\n",
       "      <td>NaN</td>\n",
       "      <td>NaN</td>\n",
       "      <td>...</td>\n",
       "      <td>2006</td>\n",
       "      <td>rejected</td>\n",
       "      <td>0</td>\n",
       "      <td>0</td>\n",
       "      <td>0</td>\n",
       "      <td>0</td>\n",
       "      <td>0</td>\n",
       "      <td>0.0</td>\n",
       "      <td>0</td>\n",
       "      <td>4</td>\n",
       "    </tr>\n",
       "    <tr>\n",
       "      <th>1</th>\n",
       "      <td>59849</td>\n",
       "      <td>0.000000</td>\n",
       "      <td>Thank you!! This would make my life a lot less...</td>\n",
       "      <td>0.000000</td>\n",
       "      <td>0.0</td>\n",
       "      <td>0.000000</td>\n",
       "      <td>0.00000</td>\n",
       "      <td>0.0</td>\n",
       "      <td>NaN</td>\n",
       "      <td>NaN</td>\n",
       "      <td>...</td>\n",
       "      <td>2006</td>\n",
       "      <td>rejected</td>\n",
       "      <td>0</td>\n",
       "      <td>0</td>\n",
       "      <td>0</td>\n",
       "      <td>0</td>\n",
       "      <td>0</td>\n",
       "      <td>0.0</td>\n",
       "      <td>0</td>\n",
       "      <td>4</td>\n",
       "    </tr>\n",
       "    <tr>\n",
       "      <th>2</th>\n",
       "      <td>59852</td>\n",
       "      <td>0.000000</td>\n",
       "      <td>This is such an urgent design problem; kudos t...</td>\n",
       "      <td>0.000000</td>\n",
       "      <td>0.0</td>\n",
       "      <td>0.000000</td>\n",
       "      <td>0.00000</td>\n",
       "      <td>0.0</td>\n",
       "      <td>NaN</td>\n",
       "      <td>NaN</td>\n",
       "      <td>...</td>\n",
       "      <td>2006</td>\n",
       "      <td>rejected</td>\n",
       "      <td>0</td>\n",
       "      <td>0</td>\n",
       "      <td>0</td>\n",
       "      <td>0</td>\n",
       "      <td>0</td>\n",
       "      <td>0.0</td>\n",
       "      <td>0</td>\n",
       "      <td>4</td>\n",
       "    </tr>\n",
       "    <tr>\n",
       "      <th>3</th>\n",
       "      <td>59855</td>\n",
       "      <td>0.000000</td>\n",
       "      <td>Is this something I'll be able to install on m...</td>\n",
       "      <td>0.000000</td>\n",
       "      <td>0.0</td>\n",
       "      <td>0.000000</td>\n",
       "      <td>0.00000</td>\n",
       "      <td>0.0</td>\n",
       "      <td>NaN</td>\n",
       "      <td>NaN</td>\n",
       "      <td>...</td>\n",
       "      <td>2006</td>\n",
       "      <td>rejected</td>\n",
       "      <td>0</td>\n",
       "      <td>0</td>\n",
       "      <td>0</td>\n",
       "      <td>0</td>\n",
       "      <td>0</td>\n",
       "      <td>0.0</td>\n",
       "      <td>0</td>\n",
       "      <td>4</td>\n",
       "    </tr>\n",
       "    <tr>\n",
       "      <th>4</th>\n",
       "      <td>59856</td>\n",
       "      <td>0.893617</td>\n",
       "      <td>haha you guys are a bunch of losers.</td>\n",
       "      <td>0.021277</td>\n",
       "      <td>0.0</td>\n",
       "      <td>0.021277</td>\n",
       "      <td>0.87234</td>\n",
       "      <td>0.0</td>\n",
       "      <td>0.0</td>\n",
       "      <td>0.0</td>\n",
       "      <td>...</td>\n",
       "      <td>2006</td>\n",
       "      <td>rejected</td>\n",
       "      <td>0</td>\n",
       "      <td>0</td>\n",
       "      <td>0</td>\n",
       "      <td>1</td>\n",
       "      <td>0</td>\n",
       "      <td>0.0</td>\n",
       "      <td>4</td>\n",
       "      <td>47</td>\n",
       "    </tr>\n",
       "  </tbody>\n",
       "</table>\n",
       "<p>5 rows × 45 columns</p>\n",
       "</div>"
      ],
      "text/plain": [
       "      id    target                                       comment_text  \\\n",
       "0  59848  0.000000  This is so cool. It's like, 'would you want yo...   \n",
       "1  59849  0.000000  Thank you!! This would make my life a lot less...   \n",
       "2  59852  0.000000  This is such an urgent design problem; kudos t...   \n",
       "3  59855  0.000000  Is this something I'll be able to install on m...   \n",
       "4  59856  0.893617               haha you guys are a bunch of losers.   \n",
       "\n",
       "   severe_toxicity  obscene  identity_attack   insult  threat  asian  atheist  \\\n",
       "0         0.000000      0.0         0.000000  0.00000     0.0    NaN      NaN   \n",
       "1         0.000000      0.0         0.000000  0.00000     0.0    NaN      NaN   \n",
       "2         0.000000      0.0         0.000000  0.00000     0.0    NaN      NaN   \n",
       "3         0.000000      0.0         0.000000  0.00000     0.0    NaN      NaN   \n",
       "4         0.021277      0.0         0.021277  0.87234     0.0    0.0      0.0   \n",
       "\n",
       "   ...  article_id    rating  funny  wow  sad  likes  disagree  \\\n",
       "0  ...        2006  rejected      0    0    0      0         0   \n",
       "1  ...        2006  rejected      0    0    0      0         0   \n",
       "2  ...        2006  rejected      0    0    0      0         0   \n",
       "3  ...        2006  rejected      0    0    0      0         0   \n",
       "4  ...        2006  rejected      0    0    0      1         0   \n",
       "\n",
       "   sexual_explicit  identity_annotator_count  toxicity_annotator_count  \n",
       "0              0.0                         0                         4  \n",
       "1              0.0                         0                         4  \n",
       "2              0.0                         0                         4  \n",
       "3              0.0                         0                         4  \n",
       "4              0.0                         4                        47  \n",
       "\n",
       "[5 rows x 45 columns]"
      ]
     },
     "execution_count": 4,
     "metadata": {},
     "output_type": "execute_result"
    }
   ],
   "source": [
    "train.head()"
   ]
  },
  {
   "cell_type": "code",
   "execution_count": 5,
   "id": "1e8515f1",
   "metadata": {
    "execution": {
     "iopub.execute_input": "2023-04-23T02:58:54.425515Z",
     "iopub.status.busy": "2023-04-23T02:58:54.424033Z",
     "iopub.status.idle": "2023-04-23T02:58:54.432661Z",
     "shell.execute_reply": "2023-04-23T02:58:54.431779Z"
    },
    "papermill": {
     "duration": 0.017223,
     "end_time": "2023-04-23T02:58:54.434729",
     "exception": false,
     "start_time": "2023-04-23T02:58:54.417506",
     "status": "completed"
    },
    "tags": []
   },
   "outputs": [
    {
     "data": {
      "text/plain": [
       "Index(['id', 'target', 'comment_text', 'severe_toxicity', 'obscene',\n",
       "       'identity_attack', 'insult', 'threat', 'asian', 'atheist', 'bisexual',\n",
       "       'black', 'buddhist', 'christian', 'female', 'heterosexual', 'hindu',\n",
       "       'homosexual_gay_or_lesbian', 'intellectual_or_learning_disability',\n",
       "       'jewish', 'latino', 'male', 'muslim', 'other_disability',\n",
       "       'other_gender', 'other_race_or_ethnicity', 'other_religion',\n",
       "       'other_sexual_orientation', 'physical_disability',\n",
       "       'psychiatric_or_mental_illness', 'transgender', 'white', 'created_date',\n",
       "       'publication_id', 'parent_id', 'article_id', 'rating', 'funny', 'wow',\n",
       "       'sad', 'likes', 'disagree', 'sexual_explicit',\n",
       "       'identity_annotator_count', 'toxicity_annotator_count'],\n",
       "      dtype='object')"
      ]
     },
     "execution_count": 5,
     "metadata": {},
     "output_type": "execute_result"
    }
   ],
   "source": [
    "train.columns"
   ]
  },
  {
   "cell_type": "code",
   "execution_count": 6,
   "id": "c636c706",
   "metadata": {
    "execution": {
     "iopub.execute_input": "2023-04-23T02:58:54.447614Z",
     "iopub.status.busy": "2023-04-23T02:58:54.446155Z",
     "iopub.status.idle": "2023-04-23T02:58:54.454677Z",
     "shell.execute_reply": "2023-04-23T02:58:54.453699Z"
    },
    "papermill": {
     "duration": 0.016819,
     "end_time": "2023-04-23T02:58:54.456850",
     "exception": false,
     "start_time": "2023-04-23T02:58:54.440031",
     "status": "completed"
    },
    "tags": []
   },
   "outputs": [],
   "source": [
    "X_train=train['comment_text']\n",
    "Y_train=train['target']"
   ]
  },
  {
   "cell_type": "code",
   "execution_count": 7,
   "id": "1b76fead",
   "metadata": {
    "execution": {
     "iopub.execute_input": "2023-04-23T02:58:54.468762Z",
     "iopub.status.busy": "2023-04-23T02:58:54.468470Z",
     "iopub.status.idle": "2023-04-23T02:58:54.478433Z",
     "shell.execute_reply": "2023-04-23T02:58:54.477585Z"
    },
    "papermill": {
     "duration": 0.01814,
     "end_time": "2023-04-23T02:58:54.480474",
     "exception": false,
     "start_time": "2023-04-23T02:58:54.462334",
     "status": "completed"
    },
    "tags": []
   },
   "outputs": [],
   "source": [
    "stemmer = SnowballStemmer(\"english\")\n",
    "stop_words = set(stopwords.words('english'))\n",
    "def pre_process(text_string):\n",
    "    text_string = text_string.lower() # Convert everything to lower case.\n",
    "    text_string = re.sub('[^A-Za-z0-9]+', ' ', text_string) # Remove special characters and punctuations\n",
    "    \n",
    "    x = text_string.split()\n",
    "    new_text = []\n",
    "    \n",
    "    for word in x:\n",
    "        if word not in stop_words:\n",
    "            new_text.append(stemmer.stem(word))\n",
    "            \n",
    "    text_string = ' '.join(new_text)\n",
    "    return text_string"
   ]
  },
  {
   "cell_type": "code",
   "execution_count": 8,
   "id": "2249bee8",
   "metadata": {
    "execution": {
     "iopub.execute_input": "2023-04-23T02:58:54.492215Z",
     "iopub.status.busy": "2023-04-23T02:58:54.491943Z",
     "iopub.status.idle": "2023-04-23T03:10:59.363611Z",
     "shell.execute_reply": "2023-04-23T03:10:59.362583Z"
    },
    "papermill": {
     "duration": 724.885281,
     "end_time": "2023-04-23T03:10:59.371039",
     "exception": false,
     "start_time": "2023-04-23T02:58:54.485758",
     "status": "completed"
    },
    "tags": []
   },
   "outputs": [
    {
     "data": {
      "text/plain": [
       "0    cool like would want mother read realli great ...\n",
       "1    thank would make life lot less anxieti induc k...\n",
       "2              urgent design problem kudo take impress\n",
       "3                        someth abl instal site releas\n",
       "4                                 haha guy bunch loser\n",
       "Name: comment_text, dtype: object"
      ]
     },
     "execution_count": 8,
     "metadata": {},
     "output_type": "execute_result"
    }
   ],
   "source": [
    "X_train=X_train.apply(pre_process)\n",
    "X_train.head()"
   ]
  },
  {
   "cell_type": "code",
   "execution_count": null,
   "id": "1f8534ea",
   "metadata": {
    "papermill": {
     "duration": 0.005279,
     "end_time": "2023-04-23T03:10:59.381843",
     "exception": false,
     "start_time": "2023-04-23T03:10:59.376564",
     "status": "completed"
    },
    "tags": []
   },
   "outputs": [],
   "source": []
  },
  {
   "cell_type": "code",
   "execution_count": 9,
   "id": "cee91e6a",
   "metadata": {
    "execution": {
     "iopub.execute_input": "2023-04-23T03:10:59.394156Z",
     "iopub.status.busy": "2023-04-23T03:10:59.393852Z",
     "iopub.status.idle": "2023-04-23T03:18:13.244193Z",
     "shell.execute_reply": "2023-04-23T03:18:13.243029Z"
    },
    "papermill": {
     "duration": 433.859504,
     "end_time": "2023-04-23T03:18:13.246933",
     "exception": false,
     "start_time": "2023-04-23T03:10:59.387429",
     "status": "completed"
    },
    "tags": []
   },
   "outputs": [],
   "source": [
    "for i in range(Y_train.shape[0]):\n",
    "    if Y_train[i]>=0.5:\n",
    "        Y_train[i]=1\n",
    "    else:\n",
    "        Y_train[i]=0"
   ]
  },
  {
   "cell_type": "code",
   "execution_count": 10,
   "id": "64d520bf",
   "metadata": {
    "execution": {
     "iopub.execute_input": "2023-04-23T03:18:13.260821Z",
     "iopub.status.busy": "2023-04-23T03:18:13.260487Z",
     "iopub.status.idle": "2023-04-23T03:18:13.273314Z",
     "shell.execute_reply": "2023-04-23T03:18:13.272252Z"
    },
    "papermill": {
     "duration": 0.02206,
     "end_time": "2023-04-23T03:18:13.275452",
     "exception": false,
     "start_time": "2023-04-23T03:18:13.253392",
     "status": "completed"
    },
    "tags": []
   },
   "outputs": [],
   "source": [
    "class LSTMFeaturization:\n",
    "    \n",
    "    def __init__(self):\n",
    "        self.word_mapping = None\n",
    "        self.total_words = None\n",
    "        \n",
    "    \n",
    "    # Accepts a list of sentences and builds a vocabulary.\n",
    "    def build_vocabulary(self, sentences):\n",
    "        \n",
    "        vocab = set()\n",
    "        for x in sentences:\n",
    "            for word in x.split():\n",
    "                vocab.add(word)\n",
    "        \n",
    "        # Create a dictionary from vocabulary.\n",
    "        vocab_dict = dict.fromkeys(vocab, 0)\n",
    "        \n",
    "        # Calculate count of each word..\n",
    "        for x in sentences:\n",
    "            for word in x.split():\n",
    "                vocab_dict[word]+=1\n",
    "                \n",
    "        return vocab_dict\n",
    "    \n",
    "    \n",
    "    \n",
    "    # Accepts a dictionary (vocabulary) and gets the word number in dictionary format\n",
    "    def get_mapping(self, vocab_dict):\n",
    "                \n",
    "        # Get the number of each word into the corpus.\n",
    "        k = []\n",
    "        v = []\n",
    "        for keys,val in vocab_dict.items():\n",
    "            k.append(keys)\n",
    "            v.append(val)\n",
    "            \n",
    "        kv = np.vstack((k,v)).T\n",
    "        df = pd.DataFrame(columns=[\"Word\",\"Count\"], data=kv)\n",
    "        df['Count'] = df['Count'].astype('int')\n",
    "        \n",
    "        # Sort the dataframe to get the largest count at first place\n",
    "        df.sort_values(by=['Count'], ascending=False, inplace=True)\n",
    "        \n",
    "        # Give numbering to the most frequent word as 1 then next as 2 and so on.\n",
    "        df.reset_index(inplace=True)\n",
    "        df['mapping'] = df.index + 1\n",
    "        \n",
    "        df.drop(columns=['index'], inplace=True)\n",
    "        df.drop(columns=['Count'], inplace=True)\n",
    "        \n",
    "        # Convert to dictionary for easier processing.\n",
    "        dictionary = dict(zip(df['Word'], df['mapping']))\n",
    "        \n",
    "        return dictionary\n",
    "    \n",
    "    \n",
    "    # Accepts a list of sentences and generates vocabulary and word mappings.\n",
    "    def fit(self, sentences):\n",
    "        v = self.build_vocabulary(sentences)\n",
    "        self.word_mapping = self.get_mapping(v)\n",
    "        self.total_words = len(self.word_mapping)\n",
    "        \n",
    "    # Converts the sentences to number mappings.\n",
    "    def transform(self, sentences, pad_length = 350):\n",
    "        \n",
    "        whole = list() # Stores mapping for all sentences\n",
    "        for x in sentences: # for each sentence in list of sentences.\n",
    "            \n",
    "            part = list()\n",
    "            for word in x.split(): # for each word\n",
    "                if word in self.word_mapping:\n",
    "                    part.append(self.word_mapping[word]) # Append mapped number.\n",
    "            whole.append(part) # Append sentence.\n",
    "        \n",
    "        # Append additional values to make lengths equal.\n",
    "        whole = keras.utils.pad_sequences(np.array(whole), maxlen=pad_length)\n",
    "        \n",
    "        return whole"
   ]
  },
  {
   "cell_type": "code",
   "execution_count": 11,
   "id": "9c30844d",
   "metadata": {
    "execution": {
     "iopub.execute_input": "2023-04-23T03:18:13.288494Z",
     "iopub.status.busy": "2023-04-23T03:18:13.287575Z",
     "iopub.status.idle": "2023-04-23T03:18:37.516585Z",
     "shell.execute_reply": "2023-04-23T03:18:37.515522Z"
    },
    "papermill": {
     "duration": 24.238334,
     "end_time": "2023-04-23T03:18:37.519388",
     "exception": false,
     "start_time": "2023-04-23T03:18:13.281054",
     "status": "completed"
    },
    "tags": []
   },
   "outputs": [],
   "source": [
    "lstmfeat = LSTMFeaturization()\n",
    "lstmfeat.fit(X_train)\n"
   ]
  },
  {
   "cell_type": "code",
   "execution_count": 12,
   "id": "b17c4ffd",
   "metadata": {
    "execution": {
     "iopub.execute_input": "2023-04-23T03:18:37.532771Z",
     "iopub.status.busy": "2023-04-23T03:18:37.532440Z",
     "iopub.status.idle": "2023-04-23T03:19:05.606278Z",
     "shell.execute_reply": "2023-04-23T03:19:05.605253Z"
    },
    "papermill": {
     "duration": 28.083776,
     "end_time": "2023-04-23T03:19:05.609066",
     "exception": false,
     "start_time": "2023-04-23T03:18:37.525290",
     "status": "completed"
    },
    "tags": []
   },
   "outputs": [],
   "source": [
    "lstm_train = lstmfeat.transform(X_train)\n"
   ]
  },
  {
   "cell_type": "code",
   "execution_count": 13,
   "id": "80c22108",
   "metadata": {
    "execution": {
     "iopub.execute_input": "2023-04-23T03:19:05.622028Z",
     "iopub.status.busy": "2023-04-23T03:19:05.621720Z",
     "iopub.status.idle": "2023-04-23T03:19:05.627474Z",
     "shell.execute_reply": "2023-04-23T03:19:05.626491Z"
    },
    "papermill": {
     "duration": 0.015122,
     "end_time": "2023-04-23T03:19:05.630051",
     "exception": false,
     "start_time": "2023-04-23T03:19:05.614929",
     "status": "completed"
    },
    "tags": []
   },
   "outputs": [
    {
     "name": "stdout",
     "output_type": "stream",
     "text": [
      "(1804874, 350)\n"
     ]
    }
   ],
   "source": [
    "print(lstm_train.shape)\n"
   ]
  },
  {
   "cell_type": "code",
   "execution_count": 14,
   "id": "2cef8afe",
   "metadata": {
    "execution": {
     "iopub.execute_input": "2023-04-23T03:19:05.643787Z",
     "iopub.status.busy": "2023-04-23T03:19:05.642149Z",
     "iopub.status.idle": "2023-04-23T03:19:06.717046Z",
     "shell.execute_reply": "2023-04-23T03:19:06.715993Z"
    },
    "papermill": {
     "duration": 1.083889,
     "end_time": "2023-04-23T03:19:06.719493",
     "exception": false,
     "start_time": "2023-04-23T03:19:05.635604",
     "status": "completed"
    },
    "tags": []
   },
   "outputs": [],
   "source": [
    "from sklearn.model_selection import train_test_split\n",
    "x_train,x_val,y_train, y_val = train_test_split(lstm_train, Y_train, test_size=0.30, shuffle=True)"
   ]
  },
  {
   "cell_type": "code",
   "execution_count": 15,
   "id": "b978a34e",
   "metadata": {
    "execution": {
     "iopub.execute_input": "2023-04-23T03:19:06.732319Z",
     "iopub.status.busy": "2023-04-23T03:19:06.732009Z",
     "iopub.status.idle": "2023-04-23T03:19:06.738241Z",
     "shell.execute_reply": "2023-04-23T03:19:06.737314Z"
    },
    "papermill": {
     "duration": 0.014913,
     "end_time": "2023-04-23T03:19:06.740335",
     "exception": false,
     "start_time": "2023-04-23T03:19:06.725422",
     "status": "completed"
    },
    "tags": []
   },
   "outputs": [],
   "source": [
    "model_checkpoint_callback = keras.callbacks.ModelCheckpoint(\n",
    "    filepath='/kaggle/working/',\n",
    "    \n",
    "    monitor='val_accuracy',\n",
    "    mode='max',\n",
    "    save_best_only=True)\n",
    "early_stop=tf.keras.callbacks.EarlyStopping(\n",
    "    monitor=\"val_accuracy\",\n",
    "    patience=8,\n",
    "    verbose=1,\n",
    "    mode=\"max\",\n",
    "    \n",
    ")"
   ]
  },
  {
   "cell_type": "code",
   "execution_count": 16,
   "id": "74c6e3da",
   "metadata": {
    "execution": {
     "iopub.execute_input": "2023-04-23T03:19:06.752604Z",
     "iopub.status.busy": "2023-04-23T03:19:06.752333Z",
     "iopub.status.idle": "2023-04-23T03:19:09.713828Z",
     "shell.execute_reply": "2023-04-23T03:19:09.712696Z"
    },
    "papermill": {
     "duration": 2.970488,
     "end_time": "2023-04-23T03:19:09.716396",
     "exception": false,
     "start_time": "2023-04-23T03:19:06.745908",
     "status": "completed"
    },
    "tags": []
   },
   "outputs": [],
   "source": [
    "embedding_vecor_length = 100\n",
    "total_words = lstmfeat.total_words\n",
    "model = Sequential()\n",
    "model.add(keras.layers.Embedding(total_words ,embedding_vecor_length, input_length=350))\n",
    "model.add(keras.layers.LSTM(128, return_sequences=True))\n",
    "model.add(keras.layers.LSTM(128))\n",
    "model.add(Dense(1, activation='sigmoid'))\n",
    "model.compile(loss='binary_crossentropy',optimizer ='adam',metrics=['accuracy'])\n"
   ]
  },
  {
   "cell_type": "code",
   "execution_count": 17,
   "id": "6283c509",
   "metadata": {
    "execution": {
     "iopub.execute_input": "2023-04-23T03:19:09.729224Z",
     "iopub.status.busy": "2023-04-23T03:19:09.728921Z",
     "iopub.status.idle": "2023-04-23T03:19:09.750617Z",
     "shell.execute_reply": "2023-04-23T03:19:09.749744Z"
    },
    "papermill": {
     "duration": 0.045925,
     "end_time": "2023-04-23T03:19:09.768188",
     "exception": false,
     "start_time": "2023-04-23T03:19:09.722263",
     "status": "completed"
    },
    "tags": []
   },
   "outputs": [
    {
     "name": "stdout",
     "output_type": "stream",
     "text": [
      "Model: \"sequential\"\n",
      "_________________________________________________________________\n",
      " Layer (type)                Output Shape              Param #   \n",
      "=================================================================\n",
      " embedding (Embedding)       (None, 350, 100)          23556100  \n",
      "                                                                 \n",
      " lstm (LSTM)                 (None, 350, 128)          117248    \n",
      "                                                                 \n",
      " lstm_1 (LSTM)               (None, 128)               131584    \n",
      "                                                                 \n",
      " dense (Dense)               (None, 1)                 129       \n",
      "                                                                 \n",
      "=================================================================\n",
      "Total params: 23,805,061\n",
      "Trainable params: 23,805,061\n",
      "Non-trainable params: 0\n",
      "_________________________________________________________________\n"
     ]
    }
   ],
   "source": [
    "model.summary()"
   ]
  },
  {
   "cell_type": "code",
   "execution_count": 18,
   "id": "30b125d3",
   "metadata": {
    "execution": {
     "iopub.execute_input": "2023-04-23T03:19:09.782130Z",
     "iopub.status.busy": "2023-04-23T03:19:09.781850Z",
     "iopub.status.idle": "2023-04-23T04:12:40.183594Z",
     "shell.execute_reply": "2023-04-23T04:12:40.181783Z"
    },
    "papermill": {
     "duration": 3211.136816,
     "end_time": "2023-04-23T04:12:40.911379",
     "exception": false,
     "start_time": "2023-04-23T03:19:09.774563",
     "status": "completed"
    },
    "tags": []
   },
   "outputs": [
    {
     "name": "stdout",
     "output_type": "stream",
     "text": [
      "Epoch 1/20\n",
      "1234/1234 [==============================] - 348s 276ms/step - loss: 0.1530 - accuracy: 0.9434 - val_loss: 0.1315 - val_accuracy: 0.9476\n",
      "Epoch 2/20\n",
      "1234/1234 [==============================] - 326s 265ms/step - loss: 0.1250 - accuracy: 0.9497 - val_loss: 0.1317 - val_accuracy: 0.9477\n",
      "Epoch 3/20\n",
      "1234/1234 [==============================] - 321s 260ms/step - loss: 0.1149 - accuracy: 0.9528 - val_loss: 0.1351 - val_accuracy: 0.9470\n",
      "Epoch 4/20\n",
      "1234/1234 [==============================] - 320s 259ms/step - loss: 0.1032 - accuracy: 0.9575 - val_loss: 0.1465 - val_accuracy: 0.9456\n",
      "Epoch 5/20\n",
      "1234/1234 [==============================] - 312s 253ms/step - loss: 0.0909 - accuracy: 0.9624 - val_loss: 0.1623 - val_accuracy: 0.9426\n",
      "Epoch 6/20\n",
      "1234/1234 [==============================] - 320s 259ms/step - loss: 0.0786 - accuracy: 0.9676 - val_loss: 0.1736 - val_accuracy: 0.9404\n",
      "Epoch 7/20\n",
      "1234/1234 [==============================] - 311s 252ms/step - loss: 0.0672 - accuracy: 0.9726 - val_loss: 0.2057 - val_accuracy: 0.9358\n",
      "Epoch 8/20\n",
      "1234/1234 [==============================] - 320s 259ms/step - loss: 0.0577 - accuracy: 0.9765 - val_loss: 0.2386 - val_accuracy: 0.9375\n",
      "Epoch 9/20\n",
      "1234/1234 [==============================] - 319s 259ms/step - loss: 0.0494 - accuracy: 0.9799 - val_loss: 0.2587 - val_accuracy: 0.9336\n",
      "Epoch 10/20\n",
      "1234/1234 [==============================] - 311s 252ms/step - loss: 0.0431 - accuracy: 0.9825 - val_loss: 0.2913 - val_accuracy: 0.9362\n",
      "Epoch 10: early stopping\n"
     ]
    }
   ],
   "source": [
    "history=model.fit(\n",
    "    x=x_train,\n",
    "    y=y_train,\n",
    "    batch_size=1024,\n",
    "    epochs=20,\n",
    "    verbose=1,\n",
    "    callbacks=[model_checkpoint_callback,early_stop],\n",
    "    validation_data=[x_val,y_val],\n",
    "    )"
   ]
  },
  {
   "cell_type": "code",
   "execution_count": 19,
   "id": "570cc7df",
   "metadata": {
    "execution": {
     "iopub.execute_input": "2023-04-23T04:12:42.284937Z",
     "iopub.status.busy": "2023-04-23T04:12:42.284549Z",
     "iopub.status.idle": "2023-04-23T04:13:24.250653Z",
     "shell.execute_reply": "2023-04-23T04:13:24.249480Z"
    },
    "papermill": {
     "duration": 42.688161,
     "end_time": "2023-04-23T04:13:24.253624",
     "exception": false,
     "start_time": "2023-04-23T04:12:41.565463",
     "status": "completed"
    },
    "tags": []
   },
   "outputs": [],
   "source": [
    "test=pd.read_csv('/kaggle/input/jigsaw-unintended-bias-in-toxicity-classification/test.csv')\n",
    "X_test=test['comment_text']\n",
    "X_test=X_test.apply(pre_process)\n",
    "lstm_test = lstmfeat.transform(X_test)\n"
   ]
  },
  {
   "cell_type": "code",
   "execution_count": 20,
   "id": "3bb94e51",
   "metadata": {
    "execution": {
     "iopub.execute_input": "2023-04-23T04:13:25.616049Z",
     "iopub.status.busy": "2023-04-23T04:13:25.615243Z",
     "iopub.status.idle": "2023-04-23T04:14:48.338103Z",
     "shell.execute_reply": "2023-04-23T04:14:48.336994Z"
    },
    "papermill": {
     "duration": 83.43578,
     "end_time": "2023-04-23T04:14:48.340860",
     "exception": false,
     "start_time": "2023-04-23T04:13:24.905080",
     "status": "completed"
    },
    "tags": []
   },
   "outputs": [
    {
     "name": "stdout",
     "output_type": "stream",
     "text": [
      "3042/3042 [==============================] - 51s 17ms/step\n"
     ]
    }
   ],
   "source": [
    "precdtion=model.predict(lstm_test)"
   ]
  },
  {
   "cell_type": "code",
   "execution_count": 21,
   "id": "3a8fad58",
   "metadata": {
    "execution": {
     "iopub.execute_input": "2023-04-23T04:14:49.899955Z",
     "iopub.status.busy": "2023-04-23T04:14:49.899459Z",
     "iopub.status.idle": "2023-04-23T04:14:50.094140Z",
     "shell.execute_reply": "2023-04-23T04:14:50.093053Z"
    },
    "papermill": {
     "duration": 1.039787,
     "end_time": "2023-04-23T04:14:50.097306",
     "exception": false,
     "start_time": "2023-04-23T04:14:49.057519",
     "status": "completed"
    },
    "tags": []
   },
   "outputs": [],
   "source": [
    "submit=pd.DataFrame()\n",
    "submit['id']=test['id']\n",
    "submit['prediction']=precdtion\n",
    "submit.to_csv(\"submission.csv\",index=False)"
   ]
  },
  {
   "cell_type": "code",
   "execution_count": null,
   "id": "353ba076",
   "metadata": {
    "execution": {
     "iopub.execute_input": "2023-04-23T02:55:55.013790Z",
     "iopub.status.busy": "2023-04-23T02:55:55.012727Z",
     "iopub.status.idle": "2023-04-23T02:55:55.025173Z",
     "shell.execute_reply": "2023-04-23T02:55:55.023909Z",
     "shell.execute_reply.started": "2023-04-23T02:55:55.013741Z"
    },
    "papermill": {
     "duration": 0.701625,
     "end_time": "2023-04-23T04:14:51.515032",
     "exception": false,
     "start_time": "2023-04-23T04:14:50.813407",
     "status": "completed"
    },
    "tags": []
   },
   "outputs": [],
   "source": []
  },
  {
   "cell_type": "markdown",
   "id": "bc2d9120",
   "metadata": {
    "papermill": {
     "duration": 0.705503,
     "end_time": "2023-04-23T04:14:52.987912",
     "exception": false,
     "start_time": "2023-04-23T04:14:52.282409",
     "status": "completed"
    },
    "tags": []
   },
   "source": []
  }
 ],
 "metadata": {
  "kernelspec": {
   "display_name": "Python 3",
   "language": "python",
   "name": "python3"
  },
  "language_info": {
   "codemirror_mode": {
    "name": "ipython",
    "version": 3
   },
   "file_extension": ".py",
   "mimetype": "text/x-python",
   "name": "python",
   "nbconvert_exporter": "python",
   "pygments_lexer": "ipython3",
   "version": "3.7.12"
  },
  "papermill": {
   "default_parameters": {},
   "duration": 4602.406467,
   "end_time": "2023-04-23T04:14:56.947064",
   "environment_variables": {},
   "exception": null,
   "input_path": "__notebook__.ipynb",
   "output_path": "__notebook__.ipynb",
   "parameters": {},
   "start_time": "2023-04-23T02:58:14.540597",
   "version": "2.4.0"
  }
 },
 "nbformat": 4,
 "nbformat_minor": 5
}
